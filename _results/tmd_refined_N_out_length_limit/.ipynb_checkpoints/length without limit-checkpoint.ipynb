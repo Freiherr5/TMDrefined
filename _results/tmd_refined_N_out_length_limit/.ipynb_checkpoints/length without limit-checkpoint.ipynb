{
 "cells": [
  {
   "cell_type": "code",
   "execution_count": 1,
   "id": "b3193406-03f1-4b85-b70d-a1a99b5757b9",
   "metadata": {},
   "outputs": [],
   "source": [
    "import pandas as pd\n",
    "import numpy as np"
   ]
  },
  {
   "cell_type": "code",
   "execution_count": 2,
   "id": "e5b13da1-6e01-4f9f-8607-d63f533733cf",
   "metadata": {},
   "outputs": [],
   "source": [
    "experimental_data = pd.read_excel(\"tmd_refined_N_out_length_limit_tmd_refined.xlsx\").set_index(\"index\")"
   ]
  },
  {
   "cell_type": "code",
   "execution_count": 3,
   "id": "832df852-bed0-46e1-ac68-f8fb9a6b9f41",
   "metadata": {},
   "outputs": [
    {
     "data": {
      "text/html": [
       "<div>\n",
       "<style scoped>\n",
       "    .dataframe tbody tr th:only-of-type {\n",
       "        vertical-align: middle;\n",
       "    }\n",
       "\n",
       "    .dataframe tbody tr th {\n",
       "        vertical-align: top;\n",
       "    }\n",
       "\n",
       "    .dataframe thead th {\n",
       "        text-align: right;\n",
       "    }\n",
       "</style>\n",
       "<table border=\"1\" class=\"dataframe\">\n",
       "  <thead>\n",
       "    <tr style=\"text-align: right;\">\n",
       "      <th></th>\n",
       "      <th>len_tmd</th>\n",
       "      <th>start_pos_TMD</th>\n",
       "      <th>stop_pos_TMD</th>\n",
       "      <th>jmd_n</th>\n",
       "      <th>tmd</th>\n",
       "      <th>jmd_c</th>\n",
       "      <th>sequence</th>\n",
       "    </tr>\n",
       "    <tr>\n",
       "      <th>index</th>\n",
       "      <th></th>\n",
       "      <th></th>\n",
       "      <th></th>\n",
       "      <th></th>\n",
       "      <th></th>\n",
       "      <th></th>\n",
       "      <th></th>\n",
       "    </tr>\n",
       "  </thead>\n",
       "  <tbody>\n",
       "    <tr>\n",
       "      <th>P48551</th>\n",
       "      <td>28</td>\n",
       "      <td>244</td>\n",
       "      <td>272</td>\n",
       "      <td>ESESAESAK</td>\n",
       "      <td>IGGIITVFLIALVLTSTIVTLKWIGYICL</td>\n",
       "      <td>RNSLPKVLN</td>\n",
       "      <td>MLLSQNAFIFRSLNLVLMVYISLVFGISYDSPDYTDESCTFKISLR...</td>\n",
       "    </tr>\n",
       "    <tr>\n",
       "      <th>Q86YL7</th>\n",
       "      <td>24</td>\n",
       "      <td>129</td>\n",
       "      <td>153</td>\n",
       "      <td>TVEKDGLST</td>\n",
       "      <td>VTLVGIIVGVLLAIGFIGAIIVVVM</td>\n",
       "      <td>RKMSGRYSP</td>\n",
       "      <td>MWKVSALLFVLGSASLWVLAEGASTGQPEDDTETTGLEGGVAMPGA...</td>\n",
       "    </tr>\n",
       "    <tr>\n",
       "      <th>P35590</th>\n",
       "      <td>25</td>\n",
       "      <td>761</td>\n",
       "      <td>786</td>\n",
       "      <td>AAEEGLDQQ</td>\n",
       "      <td>LILAVVGSVSATCLTILAALLTLVCI</td>\n",
       "      <td>RRSCLHRRR</td>\n",
       "      <td>MVWRVPPFLLPILFLASHVGAAVDLTLLANLRLTDPQRFFLTCVSG...</td>\n",
       "    </tr>\n",
       "    <tr>\n",
       "      <th>P09803</th>\n",
       "      <td>22</td>\n",
       "      <td>711</td>\n",
       "      <td>733</td>\n",
       "      <td>IVAAGLQVP</td>\n",
       "      <td>AILGILGGILALLILILLLLLFL</td>\n",
       "      <td>RRRTVVKEP</td>\n",
       "      <td>MGARCRSFSALLLLLQVSSWLCQELEPESCSPGFSSEVYTFPVPER...</td>\n",
       "    </tr>\n",
       "    <tr>\n",
       "      <th>P19022</th>\n",
       "      <td>21</td>\n",
       "      <td>725</td>\n",
       "      <td>746</td>\n",
       "      <td>VGAGLGTGA</td>\n",
       "      <td>IIAILLCIIILLILVLMFVVWM</td>\n",
       "      <td>KRRDKERQA</td>\n",
       "      <td>MCRIAGALRTLLPLLAALLQASVEASGEIALCKTGFPEDVYSAVLS...</td>\n",
       "    </tr>\n",
       "    <tr>\n",
       "      <th>...</th>\n",
       "      <td>...</td>\n",
       "      <td>...</td>\n",
       "      <td>...</td>\n",
       "      <td>...</td>\n",
       "      <td>...</td>\n",
       "      <td>...</td>\n",
       "      <td>...</td>\n",
       "    </tr>\n",
       "    <tr>\n",
       "      <th>Q9R1C6</th>\n",
       "      <td>20</td>\n",
       "      <td>20</td>\n",
       "      <td>40</td>\n",
       "      <td>AQSLLPDGH</td>\n",
       "      <td>LVLWTLCSVLLPVFITLWCSL</td>\n",
       "      <td>QRSRRQLHR</td>\n",
       "      <td>MEGDQRSGPPAQSLLPDGHLVLWTLCSVLLPVFITLWCSLQRSRRQ...</td>\n",
       "    </tr>\n",
       "    <tr>\n",
       "      <th>P56378</th>\n",
       "      <td>27</td>\n",
       "      <td>9</td>\n",
       "      <td>36</td>\n",
       "      <td>MLQSIIKN</td>\n",
       "      <td>IWIPMKPYYTKVYQEIWIGMGLMGFIVY</td>\n",
       "      <td>KIRAADKRS</td>\n",
       "      <td>MLQSIIKNIWIPMKPYYTKVYQEIWIGMGLMGFIVYKIRAADKRSK...</td>\n",
       "    </tr>\n",
       "    <tr>\n",
       "      <th>Q9NNZ3</th>\n",
       "      <td>19</td>\n",
       "      <td>156</td>\n",
       "      <td>175</td>\n",
       "      <td>QQQHKQNKQ</td>\n",
       "      <td>VLGYCLLLMLAGMGLHYIAF</td>\n",
       "      <td>RKVKQMHLN</td>\n",
       "      <td>MPPLLPLRLCRLWPRNPPSRLLGAAAGQRSRPSTYYELLGVHPGAS...</td>\n",
       "    </tr>\n",
       "    <tr>\n",
       "      <th>P23299</th>\n",
       "      <td>22</td>\n",
       "      <td>44</td>\n",
       "      <td>66</td>\n",
       "      <td>QLRDDSKLE</td>\n",
       "      <td>ALYILMVLGFFGFFTLGIMLSYI</td>\n",
       "      <td>RSKKLEHSH</td>\n",
       "      <td>MSLPNSTTVLPFLARLWQETAEQGGNVSGLARKSQLRDDSKLEALY...</td>\n",
       "    </tr>\n",
       "    <tr>\n",
       "      <th>Q86Z14</th>\n",
       "      <td>20</td>\n",
       "      <td>997</td>\n",
       "      <td>1017</td>\n",
       "      <td>CLFLVQKKP</td>\n",
       "      <td>LIFLGCCFFSTLVLLLSIAIF</td>\n",
       "      <td>QRQKRRKFW</td>\n",
       "      <td>MKPGCAAGSPGNEWIFFSTDEITTRYRNTMSNGGLQRSVILSALIL...</td>\n",
       "    </tr>\n",
       "  </tbody>\n",
       "</table>\n",
       "<p>2917 rows × 7 columns</p>\n",
       "</div>"
      ],
      "text/plain": [
       "        len_tmd  start_pos_TMD  stop_pos_TMD      jmd_n  \\\n",
       "index                                                     \n",
       "P48551       28            244           272  ESESAESAK   \n",
       "Q86YL7       24            129           153  TVEKDGLST   \n",
       "P35590       25            761           786  AAEEGLDQQ   \n",
       "P09803       22            711           733  IVAAGLQVP   \n",
       "P19022       21            725           746  VGAGLGTGA   \n",
       "...         ...            ...           ...        ...   \n",
       "Q9R1C6       20             20            40  AQSLLPDGH   \n",
       "P56378       27              9            36   MLQSIIKN   \n",
       "Q9NNZ3       19            156           175  QQQHKQNKQ   \n",
       "P23299       22             44            66  QLRDDSKLE   \n",
       "Q86Z14       20            997          1017  CLFLVQKKP   \n",
       "\n",
       "                                  tmd      jmd_c  \\\n",
       "index                                              \n",
       "P48551  IGGIITVFLIALVLTSTIVTLKWIGYICL  RNSLPKVLN   \n",
       "Q86YL7      VTLVGIIVGVLLAIGFIGAIIVVVM  RKMSGRYSP   \n",
       "P35590     LILAVVGSVSATCLTILAALLTLVCI  RRSCLHRRR   \n",
       "P09803        AILGILGGILALLILILLLLLFL  RRRTVVKEP   \n",
       "P19022         IIAILLCIIILLILVLMFVVWM  KRRDKERQA   \n",
       "...                               ...        ...   \n",
       "Q9R1C6          LVLWTLCSVLLPVFITLWCSL  QRSRRQLHR   \n",
       "P56378   IWIPMKPYYTKVYQEIWIGMGLMGFIVY  KIRAADKRS   \n",
       "Q9NNZ3           VLGYCLLLMLAGMGLHYIAF  RKVKQMHLN   \n",
       "P23299        ALYILMVLGFFGFFTLGIMLSYI  RSKKLEHSH   \n",
       "Q86Z14          LIFLGCCFFSTLVLLLSIAIF  QRQKRRKFW   \n",
       "\n",
       "                                                 sequence  \n",
       "index                                                      \n",
       "P48551  MLLSQNAFIFRSLNLVLMVYISLVFGISYDSPDYTDESCTFKISLR...  \n",
       "Q86YL7  MWKVSALLFVLGSASLWVLAEGASTGQPEDDTETTGLEGGVAMPGA...  \n",
       "P35590  MVWRVPPFLLPILFLASHVGAAVDLTLLANLRLTDPQRFFLTCVSG...  \n",
       "P09803  MGARCRSFSALLLLLQVSSWLCQELEPESCSPGFSSEVYTFPVPER...  \n",
       "P19022  MCRIAGALRTLLPLLAALLQASVEASGEIALCKTGFPEDVYSAVLS...  \n",
       "...                                                   ...  \n",
       "Q9R1C6  MEGDQRSGPPAQSLLPDGHLVLWTLCSVLLPVFITLWCSLQRSRRQ...  \n",
       "P56378  MLQSIIKNIWIPMKPYYTKVYQEIWIGMGLMGFIVYKIRAADKRSK...  \n",
       "Q9NNZ3  MPPLLPLRLCRLWPRNPPSRLLGAAAGQRSRPSTYYELLGVHPGAS...  \n",
       "P23299  MSLPNSTTVLPFLARLWQETAEQGGNVSGLARKSQLRDDSKLEALY...  \n",
       "Q86Z14  MKPGCAAGSPGNEWIFFSTDEITTRYRNTMSNGGLQRSVILSALIL...  \n",
       "\n",
       "[2917 rows x 7 columns]"
      ]
     },
     "execution_count": 3,
     "metadata": {},
     "output_type": "execute_result"
    }
   ],
   "source": [
    "experimental_data"
   ]
  },
  {
   "cell_type": "code",
   "execution_count": 4,
   "id": "f629e96f-825a-4ff8-acaf-b874e8f1626e",
   "metadata": {},
   "outputs": [
    {
     "data": {
      "text/plain": [
       "len_tmd                                                         22\n",
       "start_pos_TMD                                                  701\n",
       "stop_pos_TMD                                                   723\n",
       "jmd_n                                                    AEDVGSNKG\n",
       "tmd                                        AIIGLMVGGVVIATVIVITLVML\n",
       "jmd_c                                                    KKKQYTSIH\n",
       "sequence         MLPGLALLLLAAWTARALEVPTDGNAGLLAEPQIAMFCGRLNMHMN...\n",
       "Name: P05067, dtype: object"
      ]
     },
     "execution_count": 4,
     "metadata": {},
     "output_type": "execute_result"
    }
   ],
   "source": [
    "# APP = P05067\n",
    "experimental_data.loc[\"P05067\"]"
   ]
  },
  {
   "cell_type": "code",
   "execution_count": 5,
   "id": "dd1723b6-fc15-4990-8717-4d1178d24f36",
   "metadata": {},
   "outputs": [
    {
     "data": {
      "text/plain": [
       "[15,\n",
       " 16,\n",
       " 17,\n",
       " 18,\n",
       " 19,\n",
       " 20,\n",
       " 21,\n",
       " 22,\n",
       " 23,\n",
       " 24,\n",
       " 25,\n",
       " 26,\n",
       " 27,\n",
       " 28,\n",
       " 29,\n",
       " 30,\n",
       " 31,\n",
       " 32,\n",
       " 33,\n",
       " 34,\n",
       " 35]"
      ]
     },
     "execution_count": 5,
     "metadata": {},
     "output_type": "execute_result"
    }
   ],
   "source": [
    "length_types = experimental_data[\"len_tmd\"].unique().tolist()\n",
    "all_lengths = experimental_data[\"len_tmd\"].to_numpy().tolist()\n",
    "length_types_sort = sorted(length_types)\n",
    "length_types_sort"
   ]
  },
  {
   "cell_type": "code",
   "execution_count": 6,
   "id": "a578ee67-30ca-4743-8b6c-ed68c5146dc4",
   "metadata": {},
   "outputs": [
    {
     "data": {
      "text/plain": [
       "[57,\n",
       " 64,\n",
       " 95,\n",
       " 109,\n",
       " 155,\n",
       " 295,\n",
       " 351,\n",
       " 434,\n",
       " 330,\n",
       " 242,\n",
       " 181,\n",
       " 135,\n",
       " 96,\n",
       " 105,\n",
       " 56,\n",
       " 61,\n",
       " 45,\n",
       " 38,\n",
       " 36,\n",
       " 22,\n",
       " 10]"
      ]
     },
     "execution_count": 6,
     "metadata": {},
     "output_type": "execute_result"
    }
   ],
   "source": [
    "list_count_lengths = []\n",
    "for lengths in length_types_sort:\n",
    "    length_count = all_lengths.count(lengths)\n",
    "    list_count_lengths.append(length_count)\n",
    "list_count_lengths"
   ]
  },
  {
   "cell_type": "code",
   "execution_count": 10,
   "id": "2238cc69-d0ff-4cce-a6f0-44d4e20838cb",
   "metadata": {},
   "outputs": [
    {
     "data": {
      "image/png": "[encoded data removed]",
      "text/plain": [
       "<Figure size 1000x500 with 1 Axes>"
      ]
     },
     "metadata": {},
     "output_type": "display_data"
    }
   ],
   "source": [
    "import seaborn as sns\n",
    "import matplotlib.pyplot as plt\n",
    "color_tmd = \"#d9bd82\" \n",
    "fig2, ax2 = plt.subplots(figsize=(10,5))\n",
    "sns.barplot(x=length_types_sort, y=list_count_lengths, color=color_tmd)\n",
    "ax2.set_ylabel(\"count\", fontweight=\"bold\")\n",
    "ax2.set_xlabel(\"TMD lengths\", fontweight=\"bold\")\n",
    "ax2.spines[['right', 'top']].set_visible(False)\n",
    "ax2.set_title(f\"TMD length distributions (with length limitation)\", fontsize=20, fontweight=\"bold\")\n",
    "plt.savefig(\"TMD length distributions (without length limitation).png\")\n",
    "plt.show()"
   ]
  }
 ],
 "metadata": {
  "kernelspec": {
   "display_name": "Python 3 (ipykernel)",
   "language": "python",
   "name": "python3"
  },
  "language_info": {
   "codemirror_mode": {
    "name": "ipython",
    "version": 3
   },
   "file_extension": ".py",
   "mimetype": "text/x-python",
   "name": "python",
   "nbconvert_exporter": "python",
   "pygments_lexer": "ipython3",
   "version": "3.12.2"
  }
 },
 "nbformat": 4,
 "nbformat_minor": 5
}
