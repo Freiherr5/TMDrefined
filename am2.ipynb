{
 "cells": [
  {
   "cell_type": "markdown",
   "id": "49357e06-69d7-4d90-9543-8511d47cb547",
   "metadata": {},
   "source": [
    "# TMDrefined Preds for arithmetic mean with threshold = 2"
   ]
  },
  {
   "cell_type": "code",
   "execution_count": 2,
   "id": "5a0914e6-e0cb-4a18-99a0-4e1b049df19e",
   "metadata": {},
   "outputs": [],
   "source": [
    "#imports\n",
    "import numpy as np\n",
    "import pandas as pd\n",
    "import os\n",
    "import glob\n",
    "import scripts"
   ]
  },
  {
   "cell_type": "code",
   "execution_count": 3,
   "id": "301fe37b-7997-4836-b51e-9f5ee84df61b",
   "metadata": {},
   "outputs": [
    {
     "ename": "ModuleNotFoundError",
     "evalue": "No module named 'StandardConfig'",
     "output_type": "error",
     "traceback": [
      "\u001b[0;31m---------------------------------------------------------------------------\u001b[0m",
      "\u001b[0;31mModuleNotFoundError\u001b[0m                       Traceback (most recent call last)",
      "Cell \u001b[0;32mIn[3], line 1\u001b[0m\n\u001b[0;32m----> 1\u001b[0m \u001b[38;5;28;01mimport\u001b[39;00m \u001b[38;5;21;01mscripts\u001b[39;00m\u001b[38;5;21;01m.\u001b[39;00m\u001b[38;5;21;01mML_TMDrefined\u001b[39;00m\n",
      "File \u001b[0;32m~/PycharmProjects/TMDrefined/scripts/ML_TMDrefined.py:4\u001b[0m\n\u001b[1;32m      2\u001b[0m \u001b[38;5;28;01mimport\u001b[39;00m \u001b[38;5;21;01mpandas\u001b[39;00m \u001b[38;5;28;01mas\u001b[39;00m \u001b[38;5;21;01mpd\u001b[39;00m\n\u001b[1;32m      3\u001b[0m \u001b[38;5;28;01mimport\u001b[39;00m \u001b[38;5;21;01mnumpy\u001b[39;00m \u001b[38;5;28;01mas\u001b[39;00m \u001b[38;5;21;01mnp\u001b[39;00m\n\u001b[0;32m----> 4\u001b[0m \u001b[38;5;28;01mimport\u001b[39;00m \u001b[38;5;21;01mStandardConfig\u001b[39;00m\n\u001b[1;32m      5\u001b[0m \u001b[38;5;28;01mfrom\u001b[39;00m \u001b[38;5;21;01mStandardConfig\u001b[39;00m \u001b[38;5;28;01mimport\u001b[39;00m timingmethod\n\u001b[1;32m      6\u001b[0m \u001b[38;5;66;03m# ML\u001b[39;00m\n",
      "\u001b[0;31mModuleNotFoundError\u001b[0m: No module named 'StandardConfig'"
     ]
    }
   ],
   "source": [
    "import scripts.ML_TMDrefined"
   ]
  },
  {
   "cell_type": "code",
   "execution_count": null,
   "id": "436cfbcb-64dd-414e-b95c-2aceb9ae24ba",
   "metadata": {},
   "outputs": [],
   "source": [
    "# get all the files\n",
    "path, sep = StandardConfig.find_folderpath()\n",
    "path_labels = f\"{path}label_am2_data{sep}\"\n",
    "list_df_analysis_tags = glob.glob(f\"{path_labels}*.xlsx\")\n",
    "list_df_analysis_tags"
   ]
  },
  {
   "cell_type": "markdown",
   "id": "8c0ddc4a-54e9-4c2e-aef8-b44b4ffe328d",
   "metadata": {},
   "source": [
    "## N-term Pred with threshold 2 for arithmetic mean"
   ]
  },
  {
   "cell_type": "code",
   "execution_count": null,
   "id": "77d7c688-9b46-4fbe-aa62-961819a65a8d",
   "metadata": {},
   "outputs": [],
   "source": [
    "test_am_N2 = pd.read_excel('/home/freiherr/PycharmProjects/TMDrefined/label_am2_data/am2_test_N.xlsx').set_index(\"ID\")\n",
    "train_am_N2 = pd.read_excel('/home/freiherr/PycharmProjects/TMDrefined/label_am2_data/am2_train_N.xlsx',).set_index(\"ID\")\n",
    "am_N2_top_CPP = pd.read_excel('/home/freiherr/PycharmProjects/TMDrefined/label_am2_data/am_label_single_start_pos_TMD_thresh=2_CPP_top.xlsx').set_index(\"Unnamed: 0\")"
   ]
  },
  {
   "cell_type": "code",
   "execution_count": null,
   "id": "cf79787a-8176-4a5b-8808-b89fa1125e65",
   "metadata": {},
   "outputs": [],
   "source": [
    "am_N2_top_CPP.head(5)"
   ]
  },
  {
   "cell_type": "code",
   "execution_count": null,
   "id": "2c21931e-fc1f-43ab-84c5-8b10cad7be90",
   "metadata": {},
   "outputs": [],
   "source": [
    "train_am_N2.head(5)"
   ]
  },
  {
   "cell_type": "code",
   "execution_count": null,
   "id": "e62f6d54-084a-47a8-acf8-ced11dc07630",
   "metadata": {},
   "outputs": [],
   "source": []
  },
  {
   "cell_type": "code",
   "execution_count": null,
   "id": "d3afa35a-a93f-4c2b-8a70-7fe357ed4c41",
   "metadata": {},
   "outputs": [],
   "source": []
  },
  {
   "cell_type": "code",
   "execution_count": null,
   "id": "7c282b50-5b18-4420-a7a8-b0e0bab7f45d",
   "metadata": {},
   "outputs": [],
   "source": []
  },
  {
   "cell_type": "code",
   "execution_count": null,
   "id": "c0001bc8-0aa9-45e4-9c6b-ea3a964c7162",
   "metadata": {},
   "outputs": [],
   "source": []
  },
  {
   "cell_type": "code",
   "execution_count": null,
   "id": "df57ad7f-10e6-4142-8bec-a4503b349c19",
   "metadata": {},
   "outputs": [],
   "source": []
  },
  {
   "cell_type": "code",
   "execution_count": null,
   "id": "8d0f90ae-7c3d-41c5-bd18-2778ca58f2f7",
   "metadata": {},
   "outputs": [],
   "source": []
  },
  {
   "cell_type": "code",
   "execution_count": null,
   "id": "47e32b6a-7cbb-4c24-b7ea-2dc58114d34e",
   "metadata": {},
   "outputs": [],
   "source": []
  },
  {
   "cell_type": "code",
   "execution_count": null,
   "id": "f428f013-11d4-4842-896b-6c945805404e",
   "metadata": {},
   "outputs": [],
   "source": []
  },
  {
   "cell_type": "code",
   "execution_count": null,
   "id": "ea2a0162-9436-4aa8-9502-ec6bdd10c1d0",
   "metadata": {},
   "outputs": [],
   "source": []
  },
  {
   "cell_type": "code",
   "execution_count": null,
   "id": "b8912394-bbc6-4ee2-8c37-8d806b1141dd",
   "metadata": {},
   "outputs": [],
   "source": []
  }
 ],
 "metadata": {
  "kernelspec": {
   "display_name": "Python 3 (ipykernel)",
   "language": "python",
   "name": "python3"
  },
  "language_info": {
   "codemirror_mode": {
    "name": "ipython",
    "version": 3
   },
   "file_extension": ".py",
   "mimetype": "text/x-python",
   "name": "python",
   "nbconvert_exporter": "python",
   "pygments_lexer": "ipython3",
   "version": "3.12.2"
  }
 },
 "nbformat": 4,
 "nbformat_minor": 5
}
